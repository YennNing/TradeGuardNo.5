{
 "cells": [
  {
   "cell_type": "code",
   "execution_count": 717,
   "id": "f70e67d1",
   "metadata": {},
   "outputs": [
    {
     "name": "stdout",
     "output_type": "stream",
     "text": [
      "                 High        Low       Open      Close    Volume\n",
      "Date                                                            \n",
      "2012-01-03  31.930000  31.230000  31.680000  31.459999  212500.0\n",
      "2012-01-04  31.379999  30.770000  31.170000  31.090000  230500.0\n",
      "2012-01-05  31.520000  30.840000  31.040001  31.250000  253300.0\n",
      "2012-01-06  31.580000  30.940001  31.270000  31.480000  236800.0\n",
      "2012-01-09  31.700001  31.090000  31.549999  31.170000  228000.0\n",
      "...               ...        ...        ...        ...       ...\n",
      "2022-07-18  45.630001  44.500000  45.410000  44.880001  338100.0\n",
      "2022-07-19  46.439999  45.560001  46.049999  45.980000  419600.0\n",
      "2022-07-20  46.919998  45.439999  45.619999  46.759998  402400.0\n",
      "2022-07-21  47.099998  46.389999  46.630001  47.060001  300200.0\n",
      "2022-07-22  47.529999  46.570000  47.340000  46.799999  279800.0\n",
      "\n",
      "[2656 rows x 5 columns]\n"
     ]
    }
   ],
   "source": [
    "import pandas as pd\n",
    "import datetime\n",
    "import pandas_datareader.data as web\n",
    "from pandas import Series, DataFrame\n",
    "\n",
    "stock_ticket = \"PCH\"\n",
    "start = datetime.datetime(2012,1,1)\n",
    "end = datetime.datetime(2022,7,22)\n",
    "df = web.DataReader(stock_ticket,\"yahoo\",start,end)\n",
    "df.drop(columns=['Adj Close'], inplace=True)\n",
    "df.head()\n",
    "print(df)\n",
    "#639 rows"
   ]
  },
  {
   "cell_type": "code",
   "execution_count": 701,
   "id": "9baa8dbe",
   "metadata": {},
   "outputs": [
    {
     "data": {
      "text/html": [
       "<div>\n",
       "<style scoped>\n",
       "    .dataframe tbody tr th:only-of-type {\n",
       "        vertical-align: middle;\n",
       "    }\n",
       "\n",
       "    .dataframe tbody tr th {\n",
       "        vertical-align: top;\n",
       "    }\n",
       "\n",
       "    .dataframe thead th {\n",
       "        text-align: right;\n",
       "    }\n",
       "</style>\n",
       "<table border=\"1\" class=\"dataframe\">\n",
       "  <thead>\n",
       "    <tr style=\"text-align: right;\">\n",
       "      <th></th>\n",
       "      <th>High</th>\n",
       "      <th>Low</th>\n",
       "      <th>Open</th>\n",
       "      <th>Close</th>\n",
       "      <th>Volume</th>\n",
       "    </tr>\n",
       "    <tr>\n",
       "      <th>Date</th>\n",
       "      <th></th>\n",
       "      <th></th>\n",
       "      <th></th>\n",
       "      <th></th>\n",
       "      <th></th>\n",
       "    </tr>\n",
       "  </thead>\n",
       "  <tbody>\n",
       "    <tr>\n",
       "      <th>2012-01-03</th>\n",
       "      <td>1284.619995</td>\n",
       "      <td>1258.859985</td>\n",
       "      <td>1258.859985</td>\n",
       "      <td>1277.060059</td>\n",
       "      <td>3943710000</td>\n",
       "    </tr>\n",
       "    <tr>\n",
       "      <th>2012-01-04</th>\n",
       "      <td>1278.729980</td>\n",
       "      <td>1268.099976</td>\n",
       "      <td>1277.030029</td>\n",
       "      <td>1277.300049</td>\n",
       "      <td>3592580000</td>\n",
       "    </tr>\n",
       "    <tr>\n",
       "      <th>2012-01-05</th>\n",
       "      <td>1283.050049</td>\n",
       "      <td>1265.260010</td>\n",
       "      <td>1277.300049</td>\n",
       "      <td>1281.060059</td>\n",
       "      <td>4315950000</td>\n",
       "    </tr>\n",
       "    <tr>\n",
       "      <th>2012-01-06</th>\n",
       "      <td>1281.839966</td>\n",
       "      <td>1273.339966</td>\n",
       "      <td>1280.930054</td>\n",
       "      <td>1277.810059</td>\n",
       "      <td>3656830000</td>\n",
       "    </tr>\n",
       "    <tr>\n",
       "      <th>2012-01-09</th>\n",
       "      <td>1281.989990</td>\n",
       "      <td>1274.550049</td>\n",
       "      <td>1277.829956</td>\n",
       "      <td>1280.699951</td>\n",
       "      <td>3371600000</td>\n",
       "    </tr>\n",
       "  </tbody>\n",
       "</table>\n",
       "</div>"
      ],
      "text/plain": [
       "                   High          Low         Open        Close      Volume\n",
       "Date                                                                      \n",
       "2012-01-03  1284.619995  1258.859985  1258.859985  1277.060059  3943710000\n",
       "2012-01-04  1278.729980  1268.099976  1277.030029  1277.300049  3592580000\n",
       "2012-01-05  1283.050049  1265.260010  1277.300049  1281.060059  4315950000\n",
       "2012-01-06  1281.839966  1273.339966  1280.930054  1277.810059  3656830000\n",
       "2012-01-09  1281.989990  1274.550049  1277.829956  1280.699951  3371600000"
      ]
     },
     "execution_count": 701,
     "metadata": {},
     "output_type": "execute_result"
    }
   ],
   "source": [
    "# delete\n",
    "import pandas as pd\n",
    "import datetime\n",
    "import pandas_datareader.data as web\n",
    "from pandas import Series, DataFrame\n",
    "stock_ticket = \"SPX\"\n",
    "df = pd.read_csv('/Users/ningxuying/Desktop/SPX.csv')\n",
    "df_copy = df\n",
    "df['Date'] = [datetime.datetime.strptime(item,'%Y-%m-%d') for item in df['Date']]\n",
    "df.set_index('Date',inplace = True)\n",
    "df.drop(columns=['Adj Close'], inplace=True)\n",
    "df.head()"
   ]
  },
  {
   "cell_type": "code",
   "execution_count": 691,
   "id": "ce13531a",
   "metadata": {},
   "outputs": [],
   "source": [
    "import numpy as np\n",
    "data = df\n",
    "data = data.values"
   ]
  },
  {
   "cell_type": "code",
   "execution_count": 692,
   "id": "1b4a7fa8",
   "metadata": {},
   "outputs": [],
   "source": [
    "from sklearn.preprocessing import MinMaxScaler\n",
    "x_sc = MinMaxScaler()\n",
    "train_set = x_sc.fit_transform(df.values)\n",
    "y_sc = MinMaxScaler()\n",
    "y_set = y_sc.fit_transform(df['Close'].values.reshape(-1,1))"
   ]
  },
  {
   "cell_type": "code",
   "execution_count": 693,
   "id": "e853b1a3",
   "metadata": {},
   "outputs": [],
   "source": [
    "training_set_len = int(np.ceil(len(df)*0.8))\n",
    "training_set_scaled = train_set[:training_set_len]\n",
    "X_train = []\n",
    "y_train = []\n",
    "for i in range(60, len(training_set_scaled)):\n",
    "    X_train.append(training_set_scaled[i-60:i])\n",
    "    y_train.append(training_set_scaled[i, 3])\n",
    "X_train, y_train = np.array(X_train), np.array(y_train)\n",
    "\n",
    "# print(X_train)\n",
    "# X_train.shape"
   ]
  },
  {
   "cell_type": "code",
   "execution_count": 686,
   "id": "c90a4e59",
   "metadata": {},
   "outputs": [],
   "source": [
    "from keras.models import Sequential\n",
    "from keras.layers import LSTM\n",
    "from keras.layers import Dropout\n",
    "from keras.layers import Dense "
   ]
  },
  {
   "cell_type": "code",
   "execution_count": 687,
   "id": "01fcca52",
   "metadata": {
    "scrolled": true
   },
   "outputs": [
    {
     "name": "stdout",
     "output_type": "stream",
     "text": [
      "Epoch 1/50\n",
      "65/65 [==============================] - 50s 71ms/step - loss: 0.0053\n",
      "Epoch 2/50\n",
      "65/65 [==============================] - 4s 68ms/step - loss: 0.0015\n",
      "Epoch 3/50\n",
      "65/65 [==============================] - 4s 69ms/step - loss: 0.0013\n",
      "Epoch 4/50\n",
      "65/65 [==============================] - 4s 69ms/step - loss: 0.0013\n",
      "Epoch 5/50\n",
      "65/65 [==============================] - 5s 73ms/step - loss: 0.0013\n",
      "Epoch 6/50\n",
      "65/65 [==============================] - 5s 73ms/step - loss: 0.0014\n",
      "Epoch 7/50\n",
      "65/65 [==============================] - 4s 66ms/step - loss: 0.0011\n",
      "Epoch 8/50\n",
      "65/65 [==============================] - 4s 68ms/step - loss: 9.3699e-04\n",
      "Epoch 9/50\n",
      "65/65 [==============================] - 4s 67ms/step - loss: 9.5777e-04\n",
      "Epoch 10/50\n",
      "65/65 [==============================] - 4s 67ms/step - loss: 9.0506e-04\n",
      "Epoch 11/50\n",
      "65/65 [==============================] - 4s 67ms/step - loss: 8.4167e-04\n",
      "Epoch 12/50\n",
      "65/65 [==============================] - 4s 67ms/step - loss: 8.2162e-04\n",
      "Epoch 13/50\n",
      "65/65 [==============================] - 5s 69ms/step - loss: 7.1433e-04\n",
      "Epoch 14/50\n",
      "65/65 [==============================] - 4s 68ms/step - loss: 6.9437e-04\n",
      "Epoch 15/50\n",
      "65/65 [==============================] - 4s 68ms/step - loss: 7.6567e-04\n",
      "Epoch 16/50\n",
      "65/65 [==============================] - 4s 67ms/step - loss: 7.8049e-04\n",
      "Epoch 17/50\n",
      "65/65 [==============================] - 4s 68ms/step - loss: 7.0243e-04\n",
      "Epoch 18/50\n",
      "65/65 [==============================] - 4s 68ms/step - loss: 6.4189e-04\n",
      "Epoch 19/50\n",
      "65/65 [==============================] - 4s 66ms/step - loss: 6.1144e-04\n",
      "Epoch 20/50\n",
      "65/65 [==============================] - 5s 73ms/step - loss: 5.6284e-04\n",
      "Epoch 21/50\n",
      "65/65 [==============================] - 4s 67ms/step - loss: 6.4324e-04\n",
      "Epoch 22/50\n",
      "65/65 [==============================] - 4s 67ms/step - loss: 6.2019e-04\n",
      "Epoch 23/50\n",
      "65/65 [==============================] - 4s 66ms/step - loss: 6.1744e-04\n",
      "Epoch 24/50\n",
      "65/65 [==============================] - 4s 66ms/step - loss: 5.7664e-04\n",
      "Epoch 25/50\n",
      "65/65 [==============================] - 4s 66ms/step - loss: 5.5386e-04\n",
      "Epoch 26/50\n",
      "65/65 [==============================] - 4s 66ms/step - loss: 5.6535e-04\n",
      "Epoch 27/50\n",
      "65/65 [==============================] - 4s 66ms/step - loss: 4.8181e-04\n",
      "Epoch 28/50\n",
      "65/65 [==============================] - 4s 66ms/step - loss: 4.8138e-04\n",
      "Epoch 29/50\n",
      "65/65 [==============================] - 4s 66ms/step - loss: 4.9379e-04\n",
      "Epoch 30/50\n",
      "65/65 [==============================] - 4s 66ms/step - loss: 4.9127e-04\n",
      "Epoch 31/50\n",
      "65/65 [==============================] - 4s 68ms/step - loss: 4.6438e-04\n",
      "Epoch 32/50\n",
      "65/65 [==============================] - 4s 66ms/step - loss: 4.9254e-04\n",
      "Epoch 33/50\n",
      "65/65 [==============================] - 4s 66ms/step - loss: 4.9844e-04\n",
      "Epoch 34/50\n",
      "65/65 [==============================] - 4s 69ms/step - loss: 5.5075e-04\n",
      "Epoch 35/50\n",
      "65/65 [==============================] - 5s 71ms/step - loss: 5.3670e-04\n",
      "Epoch 36/50\n",
      "65/65 [==============================] - 4s 68ms/step - loss: 5.1753e-04\n",
      "Epoch 37/50\n",
      "65/65 [==============================] - 4s 69ms/step - loss: 4.4453e-04\n",
      "Epoch 38/50\n",
      "65/65 [==============================] - 4s 66ms/step - loss: 4.0478e-04\n",
      "Epoch 39/50\n",
      "65/65 [==============================] - 4s 67ms/step - loss: 4.3135e-04\n",
      "Epoch 40/50\n",
      "65/65 [==============================] - 4s 65ms/step - loss: 4.0612e-04\n",
      "Epoch 41/50\n",
      "65/65 [==============================] - 4s 65ms/step - loss: 4.5234e-04\n",
      "Epoch 42/50\n",
      "65/65 [==============================] - 4s 66ms/step - loss: 4.2701e-04\n",
      "Epoch 43/50\n",
      "65/65 [==============================] - 4s 66ms/step - loss: 4.6248e-04\n",
      "Epoch 44/50\n",
      "65/65 [==============================] - 4s 66ms/step - loss: 4.2115e-04\n",
      "Epoch 45/50\n",
      "65/65 [==============================] - 4s 67ms/step - loss: 4.1315e-04\n",
      "Epoch 46/50\n",
      "65/65 [==============================] - 4s 66ms/step - loss: 4.1862e-04\n",
      "Epoch 47/50\n",
      "65/65 [==============================] - 4s 66ms/step - loss: 3.6975e-04\n",
      "Epoch 48/50\n",
      "65/65 [==============================] - 4s 66ms/step - loss: 4.2766e-04\n",
      "Epoch 49/50\n",
      "65/65 [==============================] - 4s 66ms/step - loss: 4.1286e-04\n",
      "Epoch 50/50\n",
      "65/65 [==============================] - 4s 67ms/step - loss: 4.1032e-04\n"
     ]
    },
    {
     "data": {
      "text/plain": [
       "<keras.callbacks.History at 0x7f9e6932cb20>"
      ]
     },
     "execution_count": 687,
     "metadata": {},
     "output_type": "execute_result"
    }
   ],
   "source": [
    "model = Sequential()\n",
    "\n",
    "model.add(LSTM(units=50,return_sequences=True,input_shape=(X_train.shape[1], X_train.shape[2])))\n",
    "model.add(Dropout(0.2))\n",
    "\n",
    "model.add(LSTM(units=50,return_sequences=True))\n",
    "model.add(Dropout(0.2))\n",
    "\n",
    "model.add(LSTM(units=50,return_sequences=True))\n",
    "model.add(Dropout(0.2))\n",
    "\n",
    "model.add(LSTM(units=50))\n",
    "model.add(Dropout(0.2))\n",
    "\n",
    "model.add(Dense(units=1))\n",
    "\n",
    "model.compile(optimizer='adam',loss='mean_squared_error')\n",
    "\n",
    "model.fit(X_train,y_train,epochs=50,batch_size=32)"
   ]
  },
  {
   "cell_type": "code",
   "execution_count": 694,
   "id": "e5c07da9",
   "metadata": {
    "scrolled": true
   },
   "outputs": [
    {
     "name": "stdout",
     "output_type": "stream",
     "text": [
      "17/17 [==============================] - 1s 24ms/step\n",
      "Metrics\n",
      "Normalized MSE: 0.0043973244540968974\n",
      "Normalized MAE: 0.05776899417179154\n",
      "Normalized Explained variance Score: 0.930564910774735\n",
      "Without Normalization Mean Absolute Percentage Error: 0.0497714401232603\n"
     ]
    },
    {
     "name": "stderr",
     "output_type": "stream",
     "text": [
      "<ipython-input-694-936552ea3056>:20: SettingWithCopyWarning: \n",
      "A value is trying to be set on a copy of a slice from a DataFrame.\n",
      "Try using .loc[row_indexer,col_indexer] = value instead\n",
      "\n",
      "See the caveats in the documentation: https://pandas.pydata.org/pandas-docs/stable/user_guide/indexing.html#returning-a-view-versus-a-copy\n",
      "  valid['Predictions'] = predictions\n"
     ]
    }
   ],
   "source": [
    "#For Backtest，没有新预测值，给出metrics参数\n",
    "X_test = []\n",
    "y_test = []\n",
    "test_set_scaled = train_set[training_set_len-60:]\n",
    "for i in range(60, len(test_set_scaled)):\n",
    "    X_test.append(test_set_scaled[i-60:i])\n",
    "    y_test.append(test_set_scaled[i,3])\n",
    "X_test = np.array(X_test)\n",
    "# print(X_test)\n",
    "predictions = model.predict(X_test)\n",
    "import sklearn.metrics as metrics\n",
    "print(\"Metrics\")\n",
    "print(\"Normalized MSE:\",metrics.mean_squared_error(y_test,predictions))\n",
    "print(\"Normalized MAE:\",metrics.mean_absolute_error(y_test,predictions))\n",
    "print(\"Normalized Explained variance Score:\",metrics.explained_variance_score(y_test,predictions))\n",
    "predictions = y_sc.inverse_transform(predictions)\n",
    "predictions = [item[0] for item in predictions]\n",
    "data = df.filter(['Close'])\n",
    "valid = data[training_set_len:]\n",
    "valid['Predictions'] = predictions\n",
    "print(\"Without Normalization Mean Absolute Percentage Error:\",metrics.mean_absolute_percentage_error(valid['Close'] ,valid['Predictions'] ))\n",
    "daily_pred_accuracy = metrics.mean_absolute_percentage_error(valid['Close'] ,valid['Predictions'] )"
   ]
  },
  {
   "cell_type": "code",
   "execution_count": 696,
   "id": "7d9bd350",
   "metadata": {},
   "outputs": [
    {
     "name": "stdout",
     "output_type": "stream",
     "text": [
      "Backtest Result\n",
      "Invest Length: 173 Days\n",
      "Total Investment Times: 58 \n",
      "Times That has the Right Decision: 31 \n",
      "Rate of the Right Decision: 0.5344827586206896\n",
      "Net Return: -197.420166015625\n",
      "Return Rate: -0.0642844650361158\n"
     ]
    }
   ],
   "source": [
    "#backtest 2\n",
    "print(\"Backtest Result\")\n",
    "invest_length = len(predict_price)\n",
    "real_price = df['Close'][training_set_len-1:]\n",
    "real_open_price = df['Open'][training_set_len-1:]\n",
    "print(\"Invest Length:\",invest_length,\"Days\")\n",
    "list(predict_price).insert(0,df['Close'][training_set_len-1])\n",
    "# print(df.iloc[training_set_len-1].name)\n",
    "buy = []\n",
    "net_return = 0\n",
    "right_decision=0\n",
    "#预测出来下一天涨，就买入\n",
    "for i in range(1,len(predict_price)):\n",
    "    if predict_price[i] > predict_price[i-1]:\n",
    "        buy.append(valid.iloc[i].name)\n",
    "        net_return = net_return + (real_price[i+1]-real_open_price[i])\n",
    "        if real_price[i] > real_price[i-1]:\n",
    "            right_decision = right_decision+1\n",
    "print(\"Total Investment Times:\",len(buy),\"\\nTimes That has the Right Decision:\",right_decision,\"\\nRate of the Right Decision:\",right_decision/len(buy))\n",
    "# print(buy)\n",
    "print(\"Net Return:\",net_return)\n",
    "return_rate = net_return/real_open_price[0]\n",
    "print(\"Return Rate:\",return_rate)"
   ]
  },
  {
   "cell_type": "code",
   "execution_count": 697,
   "id": "bf43ffa5",
   "metadata": {
    "scrolled": true
   },
   "outputs": [
    {
     "name": "stdout",
     "output_type": "stream",
     "text": [
      "1/1 [==============================] - 0s 31ms/step\n",
      "Next Day Prediction: [3776.932]\n"
     ]
    }
   ],
   "source": [
    "#For Prediction for the next day's price\n",
    "scaled_data = train_set\n",
    "test_data = scaled_data[training_set_len-60:]\n",
    "nd_X_test = [test_data[len(test_data)-60:len(test_data)]]\n",
    "nd_X_test = np.array(nd_X_test)\n",
    "nd_predictions = model.predict(nd_X_test)\n",
    "nd_predictions = y_sc.inverse_transform(nd_predictions)\n",
    "print(\"Next Day Prediction:\",nd_predictions[0])"
   ]
  },
  {
   "cell_type": "code",
   "execution_count": 702,
   "id": "9ae8e30a",
   "metadata": {
    "scrolled": true
   },
   "outputs": [
    {
     "name": "stderr",
     "output_type": "stream",
     "text": [
      "<ipython-input-702-f7c5a54b4d2f>:5: SettingWithCopyWarning: \n",
      "A value is trying to be set on a copy of a slice from a DataFrame.\n",
      "Try using .loc[row_indexer,col_indexer] = value instead\n",
      "\n",
      "See the caveats in the documentation: https://pandas.pydata.org/pandas-docs/stable/user_guide/indexing.html#returning-a-view-versus-a-copy\n",
      "  valid['Predictions'] = predictions\n"
     ]
    },
    {
     "data": {
      "image/png": "[encoded data removed]",
      "text/plain": [
       "<Figure size 1152x432 with 1 Axes>"
      ]
     },
     "metadata": {
      "needs_background": "light"
     },
     "output_type": "display_data"
    }
   ],
   "source": [
    "import matplotlib.pyplot as plt\n",
    "data = df.filter(['Close'])\n",
    "train = data[:training_set_len]\n",
    "valid = data[training_set_len:]\n",
    "valid['Predictions'] = predictions\n",
    "# Visualize the data\n",
    "plt.figure(figsize=(16,6))\n",
    "plt.title('Model')\n",
    "plt.xlabel('Date', fontsize=18)\n",
    "plt.ylabel('Close Price USD ($)', fontsize=18)\n",
    "plt.plot(train)\n",
    "plt.plot(valid[['Close', 'Predictions']])\n",
    "plt.plot([df.iloc[-1].name+datetime.timedelta(days=1)],[nd_predictions[0]],'o')\n",
    "plt.legend(['Train', 'Val', 'Predictions'], loc='lower right')\n",
    "plt_path = '/Users/ningxuying/Desktop/Pic/'+str(stock_ticket)+'1.png'\n",
    "plt.savefig(plt_path)\n",
    "plt.show()"
   ]
  },
  {
   "cell_type": "code",
   "execution_count": 703,
   "id": "8df5ddb5",
   "metadata": {},
   "outputs": [],
   "source": [
    "data = df['Close']\n",
    "dataset = data.values\n",
    "dataset = dataset.reshape(-1,1)\n",
    "sc = MinMaxScaler(feature_range=(0,1))\n",
    "scaled_data= sc.fit_transform(dataset)\n",
    "training_set_scaled = scaled_data[:training_set_len]\n",
    "X_train = []\n",
    "y_train = []\n",
    "for i in range(60, len(training_set_scaled)):\n",
    "    X_train.append(training_set_scaled[i-60:i, 0])\n",
    "    y_train.append(training_set_scaled[i, 0])\n",
    "X_train, y_train = np.array(X_train), np.array(y_train)\n",
    "\n",
    "X_train = np.reshape(X_train, (X_train.shape[0], X_train.shape[1], 1))"
   ]
  },
  {
   "cell_type": "code",
   "execution_count": 704,
   "id": "59f2d0ca",
   "metadata": {},
   "outputs": [
    {
     "name": "stdout",
     "output_type": "stream",
     "text": [
      "Epoch 1/50\n",
      "65/65 [==============================] - 60s 96ms/step - loss: 0.0069\n",
      "Epoch 2/50\n",
      "65/65 [==============================] - 5s 71ms/step - loss: 0.0015\n",
      "Epoch 3/50\n",
      "65/65 [==============================] - 4s 69ms/step - loss: 0.0014\n",
      "Epoch 4/50\n",
      "65/65 [==============================] - 5s 77ms/step - loss: 0.0017\n",
      "Epoch 5/50\n",
      "65/65 [==============================] - 5s 71ms/step - loss: 0.0011\n",
      "Epoch 6/50\n",
      "65/65 [==============================] - 5s 79ms/step - loss: 0.0011\n",
      "Epoch 7/50\n",
      "65/65 [==============================] - 4s 69ms/step - loss: 0.0012\n",
      "Epoch 8/50\n",
      "65/65 [==============================] - 4s 68ms/step - loss: 0.0011\n",
      "Epoch 9/50\n",
      "65/65 [==============================] - 4s 67ms/step - loss: 0.0010\n",
      "Epoch 10/50\n",
      "65/65 [==============================] - 4s 68ms/step - loss: 9.3874e-04\n",
      "Epoch 11/50\n",
      "65/65 [==============================] - 4s 68ms/step - loss: 8.4273e-04\n",
      "Epoch 12/50\n",
      "65/65 [==============================] - 4s 69ms/step - loss: 8.8130e-04\n",
      "Epoch 13/50\n",
      "65/65 [==============================] - 5s 70ms/step - loss: 8.1132e-04\n",
      "Epoch 14/50\n",
      "65/65 [==============================] - 4s 67ms/step - loss: 7.9880e-04\n",
      "Epoch 15/50\n",
      "65/65 [==============================] - 4s 67ms/step - loss: 7.6477e-04\n",
      "Epoch 16/50\n",
      "65/65 [==============================] - 4s 67ms/step - loss: 6.6240e-04\n",
      "Epoch 17/50\n",
      "65/65 [==============================] - 5s 69ms/step - loss: 6.9090e-04\n",
      "Epoch 18/50\n",
      "65/65 [==============================] - 5s 69ms/step - loss: 6.9856e-04\n",
      "Epoch 19/50\n",
      "65/65 [==============================] - 4s 67ms/step - loss: 6.4041e-04\n",
      "Epoch 20/50\n",
      "65/65 [==============================] - 4s 67ms/step - loss: 6.5113e-04\n",
      "Epoch 21/50\n",
      "65/65 [==============================] - 4s 69ms/step - loss: 6.1277e-04\n",
      "Epoch 22/50\n",
      "65/65 [==============================] - 4s 68ms/step - loss: 5.9515e-04\n",
      "Epoch 23/50\n",
      "65/65 [==============================] - 4s 67ms/step - loss: 6.3689e-04\n",
      "Epoch 24/50\n",
      "65/65 [==============================] - 4s 67ms/step - loss: 5.2228e-04\n",
      "Epoch 25/50\n",
      "65/65 [==============================] - 4s 68ms/step - loss: 5.8183e-04\n",
      "Epoch 26/50\n",
      "65/65 [==============================] - 4s 68ms/step - loss: 5.3305e-04\n",
      "Epoch 27/50\n",
      "65/65 [==============================] - 4s 68ms/step - loss: 5.1945e-04\n",
      "Epoch 28/50\n",
      "65/65 [==============================] - 5s 70ms/step - loss: 5.1967e-04\n",
      "Epoch 29/50\n",
      "65/65 [==============================] - 5s 71ms/step - loss: 5.0464e-04\n",
      "Epoch 30/50\n",
      "65/65 [==============================] - 5s 77ms/step - loss: 5.0228e-04\n",
      "Epoch 31/50\n",
      "65/65 [==============================] - 5s 76ms/step - loss: 4.7023e-04\n",
      "Epoch 32/50\n",
      "65/65 [==============================] - 4s 67ms/step - loss: 4.8155e-04\n",
      "Epoch 33/50\n",
      "65/65 [==============================] - 5s 70ms/step - loss: 5.2682e-04\n",
      "Epoch 34/50\n",
      "65/65 [==============================] - 5s 73ms/step - loss: 4.9272e-04\n",
      "Epoch 35/50\n",
      "65/65 [==============================] - 4s 67ms/step - loss: 4.8212e-04\n",
      "Epoch 36/50\n",
      "65/65 [==============================] - 4s 67ms/step - loss: 4.6309e-04\n",
      "Epoch 37/50\n",
      "65/65 [==============================] - 4s 67ms/step - loss: 4.3839e-04\n",
      "Epoch 38/50\n",
      "65/65 [==============================] - 4s 66ms/step - loss: 4.5438e-04\n",
      "Epoch 39/50\n",
      "65/65 [==============================] - 4s 68ms/step - loss: 4.3809e-04\n",
      "Epoch 40/50\n",
      "65/65 [==============================] - 4s 67ms/step - loss: 4.4070e-04\n",
      "Epoch 41/50\n",
      "65/65 [==============================] - 4s 66ms/step - loss: 3.8288e-04\n",
      "Epoch 42/50\n",
      "65/65 [==============================] - 4s 67ms/step - loss: 3.9831e-04\n",
      "Epoch 43/50\n",
      "65/65 [==============================] - 4s 67ms/step - loss: 3.7677e-04\n",
      "Epoch 44/50\n",
      "65/65 [==============================] - 4s 67ms/step - loss: 3.9234e-04\n",
      "Epoch 45/50\n",
      "65/65 [==============================] - 4s 67ms/step - loss: 4.1569e-04\n",
      "Epoch 46/50\n",
      "65/65 [==============================] - 4s 67ms/step - loss: 4.3655e-04\n",
      "Epoch 47/50\n",
      "65/65 [==============================] - 4s 68ms/step - loss: 3.9618e-04\n",
      "Epoch 48/50\n",
      "65/65 [==============================] - 5s 70ms/step - loss: 3.8187e-04\n",
      "Epoch 49/50\n",
      "65/65 [==============================] - 4s 69ms/step - loss: 3.7338e-04\n",
      "Epoch 50/50\n",
      "65/65 [==============================] - 5s 69ms/step - loss: 3.7194e-04\n"
     ]
    },
    {
     "data": {
      "text/plain": [
       "<keras.callbacks.History at 0x7f9e7a42bf70>"
      ]
     },
     "execution_count": 704,
     "metadata": {},
     "output_type": "execute_result"
    }
   ],
   "source": [
    "model = Sequential()\n",
    "\n",
    "model.add(LSTM(units=50,return_sequences=True,input_shape=(X_train.shape[1], 1)))\n",
    "model.add(Dropout(0.2))\n",
    "\n",
    "model.add(LSTM(units=50,return_sequences=True))\n",
    "model.add(Dropout(0.2))\n",
    "\n",
    "model.add(LSTM(units=50,return_sequences=True))\n",
    "model.add(Dropout(0.2))\n",
    "\n",
    "model.add(LSTM(units=50))\n",
    "model.add(Dropout(0.2))\n",
    "\n",
    "model.add(Dense(units=1))\n",
    "\n",
    "model.compile(optimizer='adam',loss='mean_squared_error')\n",
    "\n",
    "model.fit(X_train,y_train,epochs=50,batch_size=32)"
   ]
  },
  {
   "cell_type": "code",
   "execution_count": 705,
   "id": "0d4f3bf5",
   "metadata": {},
   "outputs": [
    {
     "name": "stdout",
     "output_type": "stream",
     "text": [
      "1/1 [==============================] - 10s 10s/step\n",
      "1/1 [==============================] - 0s 36ms/step\n",
      "1/1 [==============================] - 0s 30ms/step\n",
      "1/1 [==============================] - 0s 30ms/step\n",
      "1/1 [==============================] - 0s 30ms/step\n",
      "1/1 [==============================] - 0s 31ms/step\n",
      "1/1 [==============================] - 0s 36ms/step\n",
      "1/1 [==============================] - 0s 32ms/step\n",
      "1/1 [==============================] - 0s 35ms/step\n",
      "1/1 [==============================] - 0s 33ms/step\n",
      "1/1 [==============================] - 0s 27ms/step\n",
      "1/1 [==============================] - 0s 26ms/step\n",
      "1/1 [==============================] - 0s 42ms/step\n",
      "1/1 [==============================] - 0s 36ms/step\n",
      "1/1 [==============================] - 0s 32ms/step\n",
      "1/1 [==============================] - 0s 34ms/step\n",
      "1/1 [==============================] - 0s 25ms/step\n",
      "1/1 [==============================] - 0s 30ms/step\n",
      "1/1 [==============================] - 0s 45ms/step\n",
      "1/1 [==============================] - 0s 34ms/step\n",
      "1/1 [==============================] - 0s 37ms/step\n",
      "1/1 [==============================] - 0s 29ms/step\n",
      "1/1 [==============================] - 0s 31ms/step\n",
      "1/1 [==============================] - 0s 40ms/step\n",
      "1/1 [==============================] - 0s 34ms/step\n",
      "1/1 [==============================] - 0s 33ms/step\n",
      "1/1 [==============================] - 0s 32ms/step\n",
      "1/1 [==============================] - 0s 38ms/step\n",
      "1/1 [==============================] - 0s 36ms/step\n",
      "1/1 [==============================] - 0s 35ms/step\n"
     ]
    }
   ],
   "source": [
    "pp_test_data = scaled_data[len(df)-60:len(df)]\n",
    "pp_X_test = []\n",
    "pp_predictions = []\n",
    "predict_length = 30\n",
    "test_data = scaled_data[training_set_len-60:]\n",
    "_X_test = [test_data[len(test_data)+1-60:len(test_data)+1]]\n",
    "for i in range(predict_length):\n",
    "    pp_X_test=pp_test_data[i:i+60]\n",
    "    pp_X_test = np.array(pp_X_test)\n",
    "    pp_X_test = np.reshape(pp_X_test, (1, 60, 1))\n",
    "    pp_prediction = model.predict(pp_X_test)\n",
    "    pp_prediction = pp_prediction[0]\n",
    "    pp_test_data = np.insert(pp_test_data,-1,pp_prediction)\n",
    "    pp_predictions.append(pp_prediction) \n",
    "    \n",
    "pp_predictions = sc.inverse_transform(pp_predictions)\n",
    "f_pred = [item[0] for item in pp_predictions]"
   ]
  },
  {
   "cell_type": "code",
   "execution_count": 706,
   "id": "590e36fd",
   "metadata": {},
   "outputs": [
    {
     "name": "stderr",
     "output_type": "stream",
     "text": [
      "<ipython-input-706-979fbcb5c44b>:5: SettingWithCopyWarning: \n",
      "A value is trying to be set on a copy of a slice from a DataFrame.\n",
      "Try using .loc[row_indexer,col_indexer] = value instead\n",
      "\n",
      "See the caveats in the documentation: https://pandas.pydata.org/pandas-docs/stable/user_guide/indexing.html#returning-a-view-versus-a-copy\n",
      "  valid['Predictions'] = predictions\n"
     ]
    },
    {
     "data": {
      "image/png": "[encoded data removed]",
      "text/plain": [
       "<Figure size 1152x432 with 1 Axes>"
      ]
     },
     "metadata": {
      "needs_background": "light"
     },
     "output_type": "display_data"
    }
   ],
   "source": [
    "import matplotlib.pyplot as plt\n",
    "data = df.filter(['Close'])\n",
    "train = data[:training_set_len]\n",
    "valid = data[training_set_len:]\n",
    "valid['Predictions'] = predictions\n",
    "# Visualize the data\n",
    "plt.figure(figsize=(16,6))\n",
    "plt.title('Model')\n",
    "plt.xlabel('Date', fontsize=18)\n",
    "plt.ylabel('Close Price USD ($)', fontsize=18)\n",
    "plt.plot(train)\n",
    "plt.plot(valid[['Close', 'Predictions']])\n",
    "date_index = [df.iloc[-1].name+datetime.timedelta(days=i) for i in range(1,predict_length+1)]\n",
    "f_pred = pd.DataFrame(f_pred,index = date_index,columns=['Prediction Pirce'])\n",
    "plt.plot([df.iloc[-1].name+datetime.timedelta(days=1)],[nd_predictions[0]],'o')\n",
    "plt.plot(f_pred)\n",
    "plt.legend(['Train', 'Val', 'Predictions','Predictions for the next day','Predictions for future 1 month'], loc='lower right')\n",
    "plt_path = '/Users/ningxuying/Desktop/Pic/'+str(stock_ticket)+'30r.png'\n",
    "plt.savefig(plt_path)\n",
    "plt.show()"
   ]
  },
  {
   "cell_type": "code",
   "execution_count": 707,
   "id": "4357f9b9",
   "metadata": {},
   "outputs": [
    {
     "name": "stdout",
     "output_type": "stream",
     "text": [
      "1/1 [==============================] - 0s 49ms/step\n",
      "1/1 [==============================] - 0s 27ms/step\n",
      "1/1 [==============================] - 0s 31ms/step\n",
      "1/1 [==============================] - 0s 31ms/step\n",
      "1/1 [==============================] - 0s 32ms/step\n",
      "1/1 [==============================] - 0s 33ms/step\n",
      "1/1 [==============================] - 0s 34ms/step\n",
      "1/1 [==============================] - 0s 26ms/step\n",
      "1/1 [==============================] - 0s 38ms/step\n",
      "1/1 [==============================] - 0s 33ms/step\n",
      "1/1 [==============================] - 0s 27ms/step\n",
      "1/1 [==============================] - 0s 28ms/step\n",
      "1/1 [==============================] - 0s 44ms/step\n",
      "1/1 [==============================] - 0s 30ms/step\n",
      "1/1 [==============================] - 0s 29ms/step\n",
      "1/1 [==============================] - 0s 27ms/step\n",
      "1/1 [==============================] - 0s 32ms/step\n",
      "1/1 [==============================] - 0s 27ms/step\n",
      "1/1 [==============================] - 0s 28ms/step\n",
      "1/1 [==============================] - 0s 32ms/step\n",
      "1/1 [==============================] - 0s 32ms/step\n",
      "1/1 [==============================] - 0s 33ms/step\n",
      "1/1 [==============================] - 0s 33ms/step\n",
      "1/1 [==============================] - 0s 28ms/step\n",
      "1/1 [==============================] - 0s 25ms/step\n",
      "1/1 [==============================] - 0s 29ms/step\n",
      "1/1 [==============================] - 0s 30ms/step\n",
      "1/1 [==============================] - 0s 32ms/step\n",
      "1/1 [==============================] - 0s 34ms/step\n",
      "1/1 [==============================] - 0s 31ms/step\n",
      "Metrics\n",
      "MSE: 0.010267705379226767\n",
      "MAE: 0.08967278164086331\n",
      "Explained variance Score: -5.440906976611183\n",
      "Without Normalization Mean Absolute Percentage Error: 0.09914944111007899\n"
     ]
    }
   ],
   "source": [
    "pp_test_data = scaled_data[training_set_len-60:training_set_len]\n",
    "pp_X_test = []\n",
    "pp_predictions = []\n",
    "predict_length = 30\n",
    "for i in range(predict_length):\n",
    "    pp_X_test=pp_test_data[i:i+60]\n",
    "    pp_X_test = np.array(pp_X_test)\n",
    "    pp_X_test = np.reshape(pp_X_test, (1, 60, 1))\n",
    "    pp_prediction = model.predict(pp_X_test)\n",
    "    pp_prediction = pp_prediction[0]\n",
    "    pp_test_data = np.insert(pp_test_data,-1,pp_prediction)\n",
    "    pp_predictions.append(pp_prediction) \n",
    "pp_real = data[training_set_len:training_set_len+30]\n",
    "pp_scaled_real = scaled_data[training_set_len:training_set_len+30]\n",
    "print(\"Metrics\")\n",
    "print(\"MSE:\",metrics.mean_squared_error(pp_scaled_real,pp_predictions))\n",
    "print(\"MAE:\",metrics.mean_absolute_error(pp_scaled_real,pp_predictions))\n",
    "print(\"Explained variance Score:\",metrics.explained_variance_score(pp_scaled_real,pp_predictions))\n",
    "pp_predictions = np.array(pp_predictions)\n",
    "pp_predictions = sc.inverse_transform(pp_predictions.reshape(-1,1))\n",
    "print(\"Without Normalization Mean Absolute Percentage Error:\",metrics.mean_absolute_percentage_error(pp_real ,pp_predictions ))\n",
    "period_pred_accuracy = metrics.mean_absolute_percentage_error(pp_real ,pp_predictions )"
   ]
  },
  {
   "cell_type": "code",
   "execution_count": 708,
   "id": "6574f187",
   "metadata": {},
   "outputs": [],
   "source": [
    "import joblib\n",
    "randomclassifier = joblib.load('/Users/ningxuying/Desktop/model/SentimentAnalysis.model')"
   ]
  },
  {
   "cell_type": "code",
   "execution_count": 718,
   "id": "6d02ea93",
   "metadata": {},
   "outputs": [],
   "source": [
    "#Scraping\n",
    "from urllib.request import Request, urlopen\n",
    "from bs4 import BeautifulSoup as soup\n",
    "import pandas as pd\n",
    "\n",
    "# Let's pick a company ticker symbol (AMZN for Amazon)\n",
    "company_ticker = stock_ticket\n",
    "# Add the ticker symbol to the \"finviz\" search box url\n",
    "url = (\"http://finviz.com/quote.ashx?t=\" + company_ticker.lower())\n",
    "# Most websites block requests that are without a User-Agent header (these simulate a typical browser)\n",
    "\n",
    "# Send a Request to the url and return an html file\n",
    "req = Request(url, headers={'User-Agent': 'Mozilla/5.0'})\n",
    "\n",
    "# open and read the request\n",
    "webpage = urlopen(req).read()\n",
    "\n",
    "# make a soup using BeautifulSoup from webpage\n",
    "html = soup(webpage, \"html.parser\")\n",
    "\n",
    "# Extract the 'class' = 'fullview-news-outer' from our html code, and create a dataframe from it\n",
    "news = pd.read_html(str(html), attrs={'class': 'fullview-news-outer'})[0]\n",
    "# extract the links for each news by finding all the \"a\" tags and 'class' = 'tab-link-news'\n",
    "links = []\n",
    "for a in html.find_all('a', class_=\"tab-link-news\"):\n",
    "    links.append(a['href'])\n",
    "\n",
    "# Clean up our news dataframe\n",
    "news.columns = ['Date', 'News_Headline']\n",
    "news['Article_Link'] = links"
   ]
  },
  {
   "cell_type": "code",
   "execution_count": 710,
   "id": "b08c99f5",
   "metadata": {},
   "outputs": [],
   "source": [
    "data = news[:5]\n",
    "data = [data['News_Headline'].iloc[i] for i in range(len(data))]\n",
    "for i in range(len(data)):\n",
    "    data[i]=data[i].lower()\n",
    "data = [' '.join(str(x) for x in data[:])]\n",
    "countvector = joblib.load('/Users/ningxuying/Desktop/model/countvector.model')\n",
    "pred_dataset = countvector.transform(data)\n",
    "sentiment_indicator = randomclassifier.predict(pred_dataset)\n",
    "sentiment_indicator = sentiment_indicator[0]"
   ]
  },
  {
   "cell_type": "code",
   "execution_count": 712,
   "id": "cc547e73",
   "metadata": {},
   "outputs": [
    {
     "name": "stdout",
     "output_type": "stream",
     "text": [
      "SPX\n",
      "Adjusted Upward!!!\n",
      "Original: 3776.932\n",
      "Afterward: 4001.246\n",
      "Wait to See 2022-7-24 close price!\n"
     ]
    }
   ],
   "source": [
    "if sentiment_indicator == 1 and nd_predictions[0][0] <= df['Close'][-1]:\n",
    "    print(stock_ticket)\n",
    "    print(\"Adjusted Upward!!!\")\n",
    "    print('Original:',nd_predictions[0][0])\n",
    "    nd_predictions[0][0] =  df['Close'][-1]*(1.01)\n",
    "    print('Afterward:', nd_predictions[0][0] )\n",
    "    print('Wait to See 2022-7-24 close price!')"
   ]
  },
  {
   "cell_type": "code",
   "execution_count": 713,
   "id": "6f31c88d",
   "metadata": {},
   "outputs": [],
   "source": [
    "if sentiment_indicator == 0 and nd_predictions[0][0] > df['Close'][-1]:\n",
    "    print(\"Adjusted Downward!!!\")\n",
    "    print('Original:',nd_predictions[0][0])\n",
    "    nd_prediction[0][0] =  df['Close'][-1]*(0.99)\n",
    "    print('Afterward:', nd_prediction[0][0]) \n",
    "    print('Wait to See 2022-7-24 close price!')"
   ]
  },
  {
   "cell_type": "code",
   "execution_count": 714,
   "id": "de240857",
   "metadata": {
    "scrolled": true
   },
   "outputs": [
    {
     "name": "stdout",
     "output_type": "stream",
     "text": [
      "            Prediction Pirce\n",
      "2022-07-23       4001.246094\n",
      "2022-07-24       3726.093696\n",
      "2022-07-25       3689.457132\n",
      "2022-07-26       3634.175450\n",
      "2022-07-27       3566.188320\n",
      "2022-07-28       3490.299672\n",
      "2022-07-29       3410.027282\n",
      "2022-07-30       3328.087572\n",
      "2022-07-31       3246.671678\n",
      "2022-08-01       3167.774386\n",
      "2022-08-02       3093.196015\n",
      "2022-08-03       3024.593815\n",
      "2022-08-04       2963.372358\n",
      "2022-08-05       2910.643157\n",
      "2022-08-06       2867.225081\n",
      "2022-08-07       2833.571358\n",
      "2022-08-08       2809.862396\n",
      "2022-08-09       2795.925968\n",
      "2022-08-10       2791.353425\n",
      "2022-08-11       2795.522564\n",
      "2022-08-12       2807.675035\n",
      "2022-08-13       2826.916762\n",
      "2022-08-14       2852.285912\n",
      "2022-08-15       2882.784985\n",
      "2022-08-16       2917.421311\n",
      "2022-08-17       2955.204840\n",
      "2022-08-18       2995.166500\n",
      "2022-08-19       3036.394278\n",
      "2022-08-20       3078.009307\n",
      "2022-08-21       3119.186318\n"
     ]
    }
   ],
   "source": [
    "f_pred.iloc[0]['Prediction Pirce'] = nd_predictions[0][0]\n",
    "print(f_pred)\n",
    "data_output = df[['Close','Volume']]\n",
    "data_output = pd.merge(data_output,f_pred,left_index=True,right_index=True,how='outer')\n",
    "path = '/Users/ningxuying/Desktop/Data/'+str(stock_ticket)+'.csv'\n",
    "data_output.to_csv(path)"
   ]
  },
  {
   "cell_type": "code",
   "execution_count": 715,
   "id": "466b2488",
   "metadata": {},
   "outputs": [],
   "source": [
    "#other to save\n",
    "other_data = {'ticket':[stock_ticket],\n",
    "    'Backtest Length':[invest_length],\n",
    "              'Total Investment Times':[len(buy)],\n",
    "              'Rate of the Right Decision':[right_decision],\n",
    "              'Backtest Net Return':[net_return],\n",
    "              \"Backtest Return Rate(%)\":[return_rate*100],\n",
    "               \"Next Day's Predicted Price\":[nd_predictions[0][0]],\n",
    "              \"Daily Stock Price Prediction Accuracy(%)\":[100-daily_pred_accuracy*100],\n",
    "             \"30 Day's Stock Price Prediction Accuracy(%)\":[100-period_pred_accuracy*100],\n",
    "             'Expected Net Return in Future 30 Days':[f_pred['Prediction Pirce'][-1]-df['Close'][-1]],\n",
    "             \"Expected Return Rate in Future 30 Days(%)\":[(f_pred['Prediction Pirce'][-1]-df['Close'][-1])/df['Close'][-1]*100]}\n",
    "news_data = {'News Dates':news['Date'][:5],\n",
    "             'News Headlines':news['News_Headline'][:5],\n",
    "             'News Links':news['Article_Link'][:5]}\n",
    "other_data = pd.DataFrame(other_data)\n",
    "news_data = pd.DataFrame(news_data)\n",
    "other_data = pd.concat([other_data,news_data],axis = 1,join = 'outer')\n",
    "od_path = '/Users/ningxuying/Desktop/OD/'+str(stock_ticket)+'.csv'\n",
    "other_data.to_csv(od_path)"
   ]
  },
  {
   "cell_type": "code",
   "execution_count": null,
   "id": "d92231ba",
   "metadata": {},
   "outputs": [],
   "source": []
  },
  {
   "cell_type": "code",
   "execution_count": null,
   "id": "b5ec4706",
   "metadata": {},
   "outputs": [],
   "source": []
  },
  {
   "cell_type": "code",
   "execution_count": null,
   "id": "2a61c77c",
   "metadata": {},
   "outputs": [],
   "source": []
  }
 ],
 "metadata": {
  "kernelspec": {
   "display_name": "Python 3",
   "language": "python",
   "name": "python3"
  },
  "language_info": {
   "codemirror_mode": {
    "name": "ipython",
    "version": 3
   },
   "file_extension": ".py",
   "mimetype": "text/x-python",
   "name": "python",
   "nbconvert_exporter": "python",
   "pygments_lexer": "ipython3",
   "version": "3.8.8"
  }
 },
 "nbformat": 4,
 "nbformat_minor": 5
}
